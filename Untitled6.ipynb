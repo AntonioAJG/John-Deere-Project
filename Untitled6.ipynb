{
  "nbformat": 4,
  "nbformat_minor": 0,
  "metadata": {
    "colab": {
      "provenance": [],
      "authorship_tag": "ABX9TyO6aCyPvlfdGaIo8pbmKRD8",
      "include_colab_link": true
    },
    "kernelspec": {
      "name": "python3",
      "display_name": "Python 3"
    },
    "language_info": {
      "name": "python"
    }
  },
  "cells": [
    {
      "cell_type": "markdown",
      "metadata": {
        "id": "view-in-github",
        "colab_type": "text"
      },
      "source": [
        "<a href=\"https://colab.research.google.com/github/AntonioAJG/John-Deere-Project/blob/main/Untitled6.ipynb\" target=\"_parent\"><img src=\"https://colab.research.google.com/assets/colab-badge.svg\" alt=\"Open In Colab\"/></a>"
      ]
    },
    {
      "cell_type": "code",
      "execution_count": null,
      "metadata": {
        "id": "ufbn-bc8xeVo"
      },
      "outputs": [],
      "source": [
        "import numpy as np\n",
        "import matplotlib.pyplot as plt\n",
        "from matplotlib.animation import FuncAnimation\n",
        "\n",
        "# Parámetros físicos\n",
        "E = 10       # Voltaje [V]\n",
        "B = 1        # Campo magnético [T]\n",
        "h = 0.1      # Altura de la barra [m]\n",
        "R = 2        # Resistencia [ohm]\n",
        "m = 0.5      # Masa [kg]\n",
        "\n",
        "# Constantes útiles\n",
        "K = (B*h)**2 / (m*R)\n",
        "v_inf = E / (B*h)\n",
        "\n",
        "# Tiempo de simulación\n",
        "t = np.linspace(0, 6, 300)  # 300 pasos de tiempo hasta 6 s\n",
        "\n",
        "# Solución analítica de velocidad\n",
        "v = v_inf * (1 - np.exp(-K * t))\n",
        "\n",
        "# Posición por integración numérica\n",
        "x = np.cumsum(v) * (t[1] - t[0])\n",
        "\n",
        "# -----------------------\n",
        "# Crear animación\n",
        "fig, ax = plt.subplots(figsize=(8, 4))\n",
        "ax.set_xlim(-0.2, max(x)+0.3)\n",
        "ax.set_ylim(-0.2, 0.4)\n",
        "ax.set_aspect('equal')\n",
        "ax.set_title(\"Máquina Lineal - Movimiento de la Barra\")\n",
        "\n",
        "# Rieles\n",
        "rail_top, = ax.plot([], [], 'k', lw=4)\n",
        "rail_bottom, = ax.plot([], [], 'k', lw=4)\n",
        "\n",
        "# Barra móvil\n",
        "barra = plt.Rectangle((0, 0), 0.02, h, fc='blue')\n",
        "ax.add_patch(barra)\n",
        "\n",
        "# Campo magnético (cruces)\n",
        "for i in range(10):\n",
        "    ax.plot(0.25, i*0.02, 'xk', markersize=8)\n",
        "\n",
        "# Fuente de voltaje\n",
        "ax.text(-0.15, 0.25, 'E', fontsize=14, weight='bold')\n",
        "\n",
        "# Corriente\n",
        "arrow_i = ax.annotate('', xy=(0.05, 0.3), xytext=(-0.05, 0.3),\n",
        "                      arrowprops=dict(arrowstyle='->', lw=2))\n",
        "\n",
        "# Función de actualización\n",
        "def update(frame):\n",
        "    pos = x[frame]\n",
        "    barra.set_xy((pos, 0))\n",
        "    rail_top.set_data([-0.2, pos+0.02], [h, h])\n",
        "    rail_bottom.set_data([-0.2, pos+0.02], [0, 0])\n",
        "    return barra, rail_top, rail_bottom, arrow_i\n",
        "\n",
        "# Crear animación\n",
        "anim = FuncAnimation(fig, update, frames=len(t), interval=30, blit=True)\n",
        "\n",
        "plt.close()  # Oculta frame estático\n",
        "from IPython.display import HTML\n",
        "HTML(anim.to_jshtml())\n"
      ]
    }
  ]
}